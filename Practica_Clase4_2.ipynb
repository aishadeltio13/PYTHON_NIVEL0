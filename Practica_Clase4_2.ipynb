{
  "nbformat": 4,
  "nbformat_minor": 0,
  "metadata": {
    "colab": {
      "provenance": [],
      "authorship_tag": "ABX9TyM/OroeYcwayjD8DjK69Jt7",
      "include_colab_link": true
    },
    "kernelspec": {
      "name": "python3",
      "display_name": "Python 3"
    },
    "language_info": {
      "name": "python"
    }
  },
  "cells": [
    {
      "cell_type": "markdown",
      "metadata": {
        "id": "view-in-github",
        "colab_type": "text"
      },
      "source": [
        "<a href=\"https://colab.research.google.com/github/aishadeltio13/PYTHON_FUNDAMENTOS/blob/main/Practica_Clase4_2.ipynb\" target=\"_parent\"><img src=\"https://colab.research.google.com/assets/colab-badge.svg\" alt=\"Open In Colab\"/></a>"
      ]
    },
    {
      "cell_type": "code",
      "execution_count": null,
      "metadata": {
        "colab": {
          "base_uri": "https://localhost:8080/"
        },
        "id": "_g1lZF7GRYz5",
        "outputId": "18650db6-ed80-4845-a959-d67f47381191"
      },
      "outputs": [
        {
          "output_type": "stream",
          "name": "stdout",
          "text": [
            "Requirement already satisfied: requests in /usr/local/lib/python3.12/dist-packages (2.32.4)\n",
            "Requirement already satisfied: charset_normalizer<4,>=2 in /usr/local/lib/python3.12/dist-packages (from requests) (3.4.3)\n",
            "Requirement already satisfied: idna<4,>=2.5 in /usr/local/lib/python3.12/dist-packages (from requests) (3.10)\n",
            "Requirement already satisfied: urllib3<3,>=1.21.1 in /usr/local/lib/python3.12/dist-packages (from requests) (2.5.0)\n",
            "Requirement already satisfied: certifi>=2017.4.17 in /usr/local/lib/python3.12/dist-packages (from requests) (2025.10.5)\n",
            "Nombre: sofia\n",
            "Edad estimada: 48\n",
            "Número de registros: 55657\n"
          ]
        }
      ],
      "source": [
        "# EJERCICIO 3\n",
        "# Haz una petición GET a la API pública: https://api.agify.io?name=sofia\n",
        "\n",
        "# Esta API devuelve una predicción de edad promedio según el nombre.\n",
        "\n",
        "# Tu programa debe:\n",
        "# Hacer la petición con requests.get().\n",
        "# Convertir la respuesta a formato JSON.\n",
        "# Mostrar por consola:\n",
        "# El nombre.\n",
        "# La edad estimada.\n",
        "# El número de registros usados para calcularla.\n",
        "# Si ocurre algún error de conexión, mostrar un mensaje:\n",
        "# \"No se pudo conectar con la API\"\n",
        "\n",
        "%pip install requests\n",
        "import requests\n",
        "try:\n",
        "  url = \"https://api.agify.io?name=sofia\"\n",
        "  response = requests.get(url)\n",
        "  data = response.json()\n",
        "\n",
        "  nombre = data.get(\"name\")\n",
        "  edad = data.get(\"age\")\n",
        "  registros = data.get(\"count\")\n",
        "\n",
        "  print(\"Nombre:\", nombre)\n",
        "  print(\"Edad estimada:\", edad)\n",
        "  print(\"Número de registros:\", registros)\n",
        "except:\n",
        "  print(\"No se pudo conectar con la API\")\n"
      ]
    },
    {
      "cell_type": "code",
      "source": [
        "# # CREACION DE JUEGOS INTERACTIVOS # # [EJERCICIO 4 Y EJERCICIO 5]\n",
        "import random\n",
        "\n",
        "# EJERCICIO 4\n",
        "# Intentaremos adivinar una palabra secreta entre una lista de opciones. Tienes tres intentos para acertar la palabra correcta. Sigue estos pasos:\n",
        "\n",
        "# Utilizaremos la función `choice` de la librería random, que devuelve un elemento random de una secuencia dada (como cualquier función, se le debe pasar como argumento).\n",
        "# En esta función ya viene implementado cómo seleccionar la palabra secreta. Tú le provees la lista, te propongo como ejemplo cinco palabras: ['montaña', 'jardín', 'viento', 'fuego', 'corazón'].\n",
        "\n",
        "# Declara una variable que represente el número de vidas (intentos) y establece su valor en 3.\n",
        "# Mediante un bucle while, comprueba que todavía quedan intentos.\n",
        "# Dentro del bucle, pide al usuario que introduzca su palabra y comprueba si es la palabra secreta. Si no lo es, actualiza el número de intentos.\n",
        "# Si el usuario acierta la palabra secreta, sal del bucle e imprime \"You win\". Si se quedan sin intentos, sal del bucle y muestra \"You lose\".\n",
        "# TIP: te puede ser útil usar la sentencia else del bucle while para manejar el caso en que pierdas.\n",
        "\n",
        "import random\n",
        "\n",
        "lista = ['montaña', 'jardín', 'viento', 'fuego', 'corazón']\n",
        "palabra_aleatoria = random.choice(lista)\n",
        "\n",
        "vidas = 1\n",
        "max_vidas = 3\n",
        "\n",
        "while vidas <= max_vidas:\n",
        "    palabra_usuario = input('Selecciona una palabra aleatoria de la siguiente lista: montaña, jardín, viento, fuego, corazón: ')\n",
        "\n",
        "    if palabra_usuario == palabra_aleatoria:\n",
        "        print('Has ganado!')\n",
        "        break\n",
        "    else:\n",
        "        if vidas == max_vidas:\n",
        "            print(f'Has perdido. La palabra correcta era \"{palabra_aleatoria}\".')\n",
        "        else:\n",
        "            print(f'No es la palabra correcta. Te quedan {max_vidas - vidas} vidas.')\n",
        "    vidas += 1\n",
        "\n",
        "\n",
        "\n",
        "\n",
        "\n"
      ],
      "metadata": {
        "id": "4ivJSZF-UYHb",
        "colab": {
          "base_uri": "https://localhost:8080/"
        },
        "outputId": "3b3c0ae1-872f-441a-e293-6f100612b725"
      },
      "execution_count": 3,
      "outputs": [
        {
          "output_type": "stream",
          "name": "stdout",
          "text": [
            "Selecciona una palabra aleatoria de la siguiente lista: montaña, jardín, viento, fuego, corazón: montaña\n",
            "No es la palabra correcta. Te quedan 2 vidas.\n",
            "Selecciona una palabra aleatoria de la siguiente lista: montaña, jardín, viento, fuego, corazón: jardín\n",
            "No es la palabra correcta. Te quedan 1 vidas.\n",
            "Selecciona una palabra aleatoria de la siguiente lista: montaña, jardín, viento, fuego, corazón: corazón\n",
            "Has ganado!\n"
          ]
        }
      ]
    },
    {
      "cell_type": "code",
      "source": [
        "# EJERCICIO 5\n",
        "import random\n",
        "\n",
        "objetivo = random.randint(1, 5)\n",
        "intentos = 0\n",
        "max_intentos = 5\n",
        "\n",
        "while intentos < max_intentos:\n",
        "    try:\n",
        "        usuario = int(input(\"Intenta adivinar el número (entre 1 y 5): \"))\n",
        "\n",
        "        if usuario == objetivo:\n",
        "            print(f\"¡Felicidades! ¡Adivinaste el número! Has necesitado {intentos + 1} intentos.\")\n",
        "            break\n",
        "        else:\n",
        "            intentos += 1\n",
        "            if intentos == max_intentos:\n",
        "                print(f\"Has perdido. El número era {objetivo}.\")\n",
        "            else:\n",
        "                print(f\"No es correcto. Te quedan {max_intentos - intentos} intentos.\")\n",
        "    except ValueError:\n",
        "        print(\" Debes introducir un número válido.\")\n"
      ],
      "metadata": {
        "colab": {
          "base_uri": "https://localhost:8080/"
        },
        "id": "8EleOvjhy8K_",
        "outputId": "d1ca3f91-fda9-4736-91fa-9c3577cbfba8"
      },
      "execution_count": 4,
      "outputs": [
        {
          "output_type": "stream",
          "name": "stdout",
          "text": [
            "Intenta adivinar el número (entre 1 y 5): 4\n",
            "No es correcto. Te quedan 4 intentos.\n",
            "Intenta adivinar el número (entre 1 y 5): 1\n",
            "¡Felicidades! ¡Adivinaste el número! Has necesitado 2 intentos.\n"
          ]
        }
      ]
    }
  ]
}