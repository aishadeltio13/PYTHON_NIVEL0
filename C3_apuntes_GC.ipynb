{
  "nbformat": 4,
  "nbformat_minor": 0,
  "metadata": {
    "colab": {
      "provenance": [],
      "authorship_tag": "ABX9TyMaocpWS4S3SeLH+Qkd9fb3",
      "include_colab_link": true
    },
    "kernelspec": {
      "name": "python3",
      "display_name": "Python 3"
    },
    "language_info": {
      "name": "python"
    }
  },
  "cells": [
    {
      "cell_type": "markdown",
      "metadata": {
        "id": "view-in-github",
        "colab_type": "text"
      },
      "source": [
        "<a href=\"https://colab.research.google.com/github/aishadeltio13/PYTHON_NIVEL0/blob/main/C3_apuntes_GC.ipynb\" target=\"_parent\"><img src=\"https://colab.research.google.com/assets/colab-badge.svg\" alt=\"Open In Colab\"/></a>"
      ]
    },
    {
      "cell_type": "code",
      "execution_count": null,
      "metadata": {
        "colab": {
          "base_uri": "https://localhost:8080/"
        },
        "id": "zIZ0_p9nQD7A",
        "outputId": "c56cd1ba-53df-4c2e-ad29-27a8141757a5"
      },
      "outputs": [
        {
          "output_type": "stream",
          "name": "stdout",
          "text": [
            "Requirement already satisfied: numpy in /usr/local/lib/python3.12/dist-packages (2.0.2)\n"
          ]
        }
      ],
      "source": [
        "%pip install numpy #instalamos la libreria"
      ]
    },
    {
      "cell_type": "code",
      "source": [
        "import numpy as np #importamos la libreria\n",
        "print(\"Ejercicio 1\")\n",
        "a = np.array([1,2,3])\n",
        "print(a)\n",
        "# acceso a los elementos\n",
        "print(a[0])\n",
        "print(a[-1])\n",
        "print(a[-2])\n",
        "\n",
        "# array 2d\n",
        "print(\"Ejercicio 2\")\n",
        "b = np.array([[1, 2, 3], [4, 5, 6]])\n",
        "print(b)\n",
        "print(b[0,1])\n",
        "\n",
        "# operaciones matematicas\n",
        "print(\"Ejercicio 3\")\n",
        "arr = np.array([1, 2, 3, 4])\n",
        "print(arr + 10) # a cada elemento\n",
        "print(arr * 2)\n",
        "print(\"Ejercicio 4\")\n",
        "arr1 = np.array([1, 2, 3])\n",
        "arr2 = np.array([4, 5, 6])\n",
        "print(arr1 + arr2) # elemento a elemento\n",
        "print(arr1 * arr2)\n",
        "\n",
        "# Practica\n",
        "print(\"Practica\")\n",
        "array = np.array([1, 2, 3])\n",
        "print(f\"La suma de todos sus elementos es {sum(array)}\")"
      ],
      "metadata": {
        "colab": {
          "base_uri": "https://localhost:8080/"
        },
        "id": "WEy6LR05Qc2N",
        "outputId": "c2dcf873-a9ab-4f03-9887-1969151228e0"
      },
      "execution_count": 6,
      "outputs": [
        {
          "output_type": "stream",
          "name": "stdout",
          "text": [
            "Ejercicio 1\n",
            "[1 2 3]\n",
            "1\n",
            "3\n",
            "2\n",
            "Ejercicio 2\n",
            "[[1 2 3]\n",
            " [4 5 6]]\n",
            "2\n",
            "Ejercicio 3\n",
            "[11 12 13 14]\n",
            "[2 4 6 8]\n",
            "Ejercicio 4\n",
            "[5 7 9]\n",
            "[ 4 10 18]\n",
            "Practica\n",
            "La suma de todos sus elementos es 6\n"
          ]
        }
      ]
    },
    {
      "cell_type": "code",
      "source": [
        "%pip install requests\n"
      ],
      "metadata": {
        "colab": {
          "base_uri": "https://localhost:8080/"
        },
        "id": "OHX6L0NJVrMO",
        "outputId": "0f1ef7c3-cdbb-420c-e6ce-45be90f196a8"
      },
      "execution_count": 12,
      "outputs": [
        {
          "output_type": "stream",
          "name": "stdout",
          "text": [
            "Requirement already satisfied: requests in /usr/local/lib/python3.12/dist-packages (2.32.4)\n",
            "Requirement already satisfied: charset_normalizer<4,>=2 in /usr/local/lib/python3.12/dist-packages (from requests) (3.4.3)\n",
            "Requirement already satisfied: idna<4,>=2.5 in /usr/local/lib/python3.12/dist-packages (from requests) (3.10)\n",
            "Requirement already satisfied: urllib3<3,>=1.21.1 in /usr/local/lib/python3.12/dist-packages (from requests) (2.5.0)\n",
            "Requirement already satisfied: certifi>=2017.4.17 in /usr/local/lib/python3.12/dist-packages (from requests) (2025.10.5)\n"
          ]
        }
      ]
    },
    {
      "cell_type": "code",
      "source": [
        "import requests\n",
        "print(\"Ejercicio 1\")\n",
        "url = \"https://jsonplaceholder.typicode.com/posts\"\n",
        "response = requests.get(url) # nos da la informacion\n",
        "data = response.json() # convertimos los datos en una lista python (es como una traduccion)\n",
        "print(\"posts:\", data)\n",
        "print(\"posts:\", data[0][\"title\"])\n",
        "\n",
        "print(\"Practica\")\n",
        "url2= \"https://randomuser.me/api\"\n",
        "response2= requests.get(url)\n",
        "data2 = response2.json()\n",
        "print(f\"Tipo de respuesto Json : {type(data2)}\")\n",
        "\n",
        "try:\n",
        "  for a in data2:\n",
        "    user_id = a[\"userId\"]\n",
        "    post_id = a[\"id\"]\n",
        "    title = a[\"title\"]\n",
        "    print(f\"User {user_id} - Post {post_id}: {title}\")\n",
        "except:\n",
        "  print(\"Error\")\n",
        "\n",
        "\n",
        "\n"
      ],
      "metadata": {
        "colab": {
          "base_uri": "https://localhost:8080/"
        },
        "id": "Ff4Sgs4dV87E",
        "outputId": "77a1f09c-9f11-4f9a-a252-5e1f9e5113ce"
      },
      "execution_count": 11,
      "outputs": [
        {
          "output_type": "stream",
          "name": "stdout",
          "text": [
            "Practica\n",
            "Tipo de respuesto Json : <class 'list'>\n",
            "User 1 - Post 1: sunt aut facere repellat provident occaecati excepturi optio reprehenderit\n",
            "User 1 - Post 2: qui est esse\n",
            "User 1 - Post 3: ea molestias quasi exercitationem repellat qui ipsa sit aut\n",
            "User 1 - Post 4: eum et est occaecati\n",
            "User 1 - Post 5: nesciunt quas odio\n",
            "User 1 - Post 6: dolorem eum magni eos aperiam quia\n",
            "User 1 - Post 7: magnam facilis autem\n",
            "User 1 - Post 8: dolorem dolore est ipsam\n",
            "User 1 - Post 9: nesciunt iure omnis dolorem tempora et accusantium\n",
            "User 1 - Post 10: optio molestias id quia eum\n",
            "User 2 - Post 11: et ea vero quia laudantium autem\n",
            "User 2 - Post 12: in quibusdam tempore odit est dolorem\n",
            "User 2 - Post 13: dolorum ut in voluptas mollitia et saepe quo animi\n",
            "User 2 - Post 14: voluptatem eligendi optio\n",
            "User 2 - Post 15: eveniet quod temporibus\n",
            "User 2 - Post 16: sint suscipit perspiciatis velit dolorum rerum ipsa laboriosam odio\n",
            "User 2 - Post 17: fugit voluptas sed molestias voluptatem provident\n",
            "User 2 - Post 18: voluptate et itaque vero tempora molestiae\n",
            "User 2 - Post 19: adipisci placeat illum aut reiciendis qui\n",
            "User 2 - Post 20: doloribus ad provident suscipit at\n",
            "User 3 - Post 21: asperiores ea ipsam voluptatibus modi minima quia sint\n",
            "User 3 - Post 22: dolor sint quo a velit explicabo quia nam\n",
            "User 3 - Post 23: maxime id vitae nihil numquam\n",
            "User 3 - Post 24: autem hic labore sunt dolores incidunt\n",
            "User 3 - Post 25: rem alias distinctio quo quis\n",
            "User 3 - Post 26: est et quae odit qui non\n",
            "User 3 - Post 27: quasi id et eos tenetur aut quo autem\n",
            "User 3 - Post 28: delectus ullam et corporis nulla voluptas sequi\n",
            "User 3 - Post 29: iusto eius quod necessitatibus culpa ea\n",
            "User 3 - Post 30: a quo magni similique perferendis\n",
            "User 4 - Post 31: ullam ut quidem id aut vel consequuntur\n",
            "User 4 - Post 32: doloremque illum aliquid sunt\n",
            "User 4 - Post 33: qui explicabo molestiae dolorem\n",
            "User 4 - Post 34: magnam ut rerum iure\n",
            "User 4 - Post 35: id nihil consequatur molestias animi provident\n",
            "User 4 - Post 36: fuga nam accusamus voluptas reiciendis itaque\n",
            "User 4 - Post 37: provident vel ut sit ratione est\n",
            "User 4 - Post 38: explicabo et eos deleniti nostrum ab id repellendus\n",
            "User 4 - Post 39: eos dolorem iste accusantium est eaque quam\n",
            "User 4 - Post 40: enim quo cumque\n",
            "User 5 - Post 41: non est facere\n",
            "User 5 - Post 42: commodi ullam sint et excepturi error explicabo praesentium voluptas\n",
            "User 5 - Post 43: eligendi iste nostrum consequuntur adipisci praesentium sit beatae perferendis\n",
            "User 5 - Post 44: optio dolor molestias sit\n",
            "User 5 - Post 45: ut numquam possimus omnis eius suscipit laudantium iure\n",
            "User 5 - Post 46: aut quo modi neque nostrum ducimus\n",
            "User 5 - Post 47: quibusdam cumque rem aut deserunt\n",
            "User 5 - Post 48: ut voluptatem illum ea doloribus itaque eos\n",
            "User 5 - Post 49: laborum non sunt aut ut assumenda perspiciatis voluptas\n",
            "User 5 - Post 50: repellendus qui recusandae incidunt voluptates tenetur qui omnis exercitationem\n",
            "User 6 - Post 51: soluta aliquam aperiam consequatur illo quis voluptas\n",
            "User 6 - Post 52: qui enim et consequuntur quia animi quis voluptate quibusdam\n",
            "User 6 - Post 53: ut quo aut ducimus alias\n",
            "User 6 - Post 54: sit asperiores ipsam eveniet odio non quia\n",
            "User 6 - Post 55: sit vel voluptatem et non libero\n",
            "User 6 - Post 56: qui et at rerum necessitatibus\n",
            "User 6 - Post 57: sed ab est est\n",
            "User 6 - Post 58: voluptatum itaque dolores nisi et quasi\n",
            "User 6 - Post 59: qui commodi dolor at maiores et quis id accusantium\n",
            "User 6 - Post 60: consequatur placeat omnis quisquam quia reprehenderit fugit veritatis facere\n",
            "User 7 - Post 61: voluptatem doloribus consectetur est ut ducimus\n",
            "User 7 - Post 62: beatae enim quia vel\n",
            "User 7 - Post 63: voluptas blanditiis repellendus animi ducimus error sapiente et suscipit\n",
            "User 7 - Post 64: et fugit quas eum in in aperiam quod\n",
            "User 7 - Post 65: consequatur id enim sunt et et\n",
            "User 7 - Post 66: repudiandae ea animi iusto\n",
            "User 7 - Post 67: aliquid eos sed fuga est maxime repellendus\n",
            "User 7 - Post 68: odio quis facere architecto reiciendis optio\n",
            "User 7 - Post 69: fugiat quod pariatur odit minima\n",
            "User 7 - Post 70: voluptatem laborum magni\n",
            "User 8 - Post 71: et iusto veniam et illum aut fuga\n",
            "User 8 - Post 72: sint hic doloribus consequatur eos non id\n",
            "User 8 - Post 73: consequuntur deleniti eos quia temporibus ab aliquid at\n",
            "User 8 - Post 74: enim unde ratione doloribus quas enim ut sit sapiente\n",
            "User 8 - Post 75: dignissimos eum dolor ut enim et delectus in\n",
            "User 8 - Post 76: doloremque officiis ad et non perferendis\n",
            "User 8 - Post 77: necessitatibus quasi exercitationem odio\n",
            "User 8 - Post 78: quam voluptatibus rerum veritatis\n",
            "User 8 - Post 79: pariatur consequatur quia magnam autem omnis non amet\n",
            "User 8 - Post 80: labore in ex et explicabo corporis aut quas\n",
            "User 9 - Post 81: tempora rem veritatis voluptas quo dolores vero\n",
            "User 9 - Post 82: laudantium voluptate suscipit sunt enim enim\n",
            "User 9 - Post 83: odit et voluptates doloribus alias odio et\n",
            "User 9 - Post 84: optio ipsam molestias necessitatibus occaecati facilis veritatis dolores aut\n",
            "User 9 - Post 85: dolore veritatis porro provident adipisci blanditiis et sunt\n",
            "User 9 - Post 86: placeat quia et porro iste\n",
            "User 9 - Post 87: nostrum quis quasi placeat\n",
            "User 9 - Post 88: sapiente omnis fugit eos\n",
            "User 9 - Post 89: sint soluta et vel magnam aut ut sed qui\n",
            "User 9 - Post 90: ad iusto omnis odit dolor voluptatibus\n",
            "User 10 - Post 91: aut amet sed\n",
            "User 10 - Post 92: ratione ex tenetur perferendis\n",
            "User 10 - Post 93: beatae soluta recusandae\n",
            "User 10 - Post 94: qui qui voluptates illo iste minima\n",
            "User 10 - Post 95: id minus libero illum nam ad officiis\n",
            "User 10 - Post 96: quaerat velit veniam amet cupiditate aut numquam ut sequi\n",
            "User 10 - Post 97: quas fugiat ut perspiciatis vero provident\n",
            "User 10 - Post 98: laboriosam dolor voluptates\n",
            "User 10 - Post 99: temporibus sit alias delectus eligendi possimus magni\n",
            "User 10 - Post 100: at nam consequatur ea labore ea harum\n"
          ]
        }
      ]
    }
  ]
}